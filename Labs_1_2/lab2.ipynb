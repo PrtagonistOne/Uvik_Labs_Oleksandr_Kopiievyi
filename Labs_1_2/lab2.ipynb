{
 "cells": [
  {
   "cell_type": "markdown",
   "metadata": {},
   "source": [
    "# Iterators task\n",
    "Given a number. Write iterator that prints n fibonacci numbers using `__iter__` and `__next__` methods.\n",
    "    \n",
    "    Input: 11\n",
    "    Output: 0 1 1 2 3 5 7 13 21 34 55"
   ]
  },
  {
   "cell_type": "code",
   "execution_count": 8,
   "metadata": {},
   "outputs": [
    {
     "name": "stdout",
     "output_type": "stream",
     "text": [
      "1 1 2 3 5 8 13 21 34 55 89 "
     ]
    }
   ],
   "source": [
    "# write your code here\n",
    "class Fibonacci:\n",
    "    def __init__(self, how_many):\n",
    "        self.counter = how_many\n",
    "        self.curFib = 0\n",
    "        self.nextFib = 1\n",
    "\n",
    "    def __iter__(self):\n",
    "        return self\n",
    "\n",
    "    def __next__(self):\n",
    "\n",
    "        if self.counter == 0:\n",
    "           raise StopIteration\n",
    "\n",
    "        self.counter -= 1\n",
    "        nextFib = self.curFib + self.nextFib\n",
    "        self.curFib = self.nextFib\n",
    "        self.nextFib = nextFib\n",
    "\n",
    "        return self.curFib\n",
    "\n",
    "fibs = Fibonacci(int(input(\"Input : \")))\n",
    "\n",
    "for fib in fibs:\n",
    "    print(fib, end=' ')"
   ]
  },
  {
   "cell_type": "markdown",
   "metadata": {},
   "source": [
    "Write iterator that prints n fibonacci numbers using `__getitem__` method.\n",
    "    \n",
    "    Input: 11\n",
    "    Output: 0 1 1 2 3 5 7 13 21 34 55"
   ]
  },
  {
   "cell_type": "code",
   "execution_count": 13,
   "metadata": {},
   "outputs": [
    {
     "name": "stdout",
     "output_type": "stream",
     "text": [
      "1 1 2 3 5 8 13 21 34 55 "
     ]
    }
   ],
   "source": [
    "# write your code here:\n",
    "class Items:\n",
    "    def __init__(self, items):\n",
    "        self.items = items\n",
    "\n",
    "    def __getitem__(self, index):\n",
    "        if self.items <= 0:\n",
    "            return [0]\n",
    "        sequence = [0, 1]\n",
    "        while len(sequence) <= self.items:\n",
    "            next_value = sequence[-1] + sequence[len(sequence) - 2]\n",
    "            sequence.append(next_value)\n",
    "\n",
    "        return  sequence\n",
    "\n",
    "fibs = Fibonacci(int(input(\"Input : \")))\n",
    "\n",
    "for fib in fibs:\n",
    "    print(fib, end=' ')\n"
   ]
  },
  {
   "cell_type": "markdown",
   "metadata": {},
   "source": [
    "# RGB To Hex Conversion\n",
    "Given 3 numbers. Write the function so that passing in RGB decimal values will result in a hexadecimal representation being returned. Valid decimal values for RGB are 0 - 255. Any values that fall out of that range must be rounded to the closest valid value.\n",
    "\n",
    "Note: Your answer should always be 6 characters long, the shorthand with 3 will not work here.\n",
    "\n",
    "    \n",
    "    Input: 255, 255, 255\n",
    "    Output: FFFFFF\n",
    "\n",
    "    Input: 255, 255, 300\n",
    "    Output: FFFFFF\n",
    "\n",
    "    Input: 148, 0, 211\n",
    "    Output: 9400D3\n"
   ]
  },
  {
   "cell_type": "code",
   "execution_count": 19,
   "metadata": {},
   "outputs": [
    {
     "name": "stdout",
     "output_type": "stream",
     "text": [
      "940D3\n"
     ]
    }
   ],
   "source": [
    "# write your code here\n",
    "def rgb_to_hex(r, g, b):\n",
    "    if r < 0:\n",
    "        r = 0\n",
    "    elif r > 255:\n",
    "        r = 255\n",
    "\n",
    "    if g < 0:\n",
    "        g = 0\n",
    "    elif g > 255:\n",
    "        g = 255\n",
    "\n",
    "    if b < 0:\n",
    "        b = 0\n",
    "    elif b > 255:\n",
    "        b = 255\n",
    "\n",
    "    return '{:X}{:X}{:X}'.format(r, g, b)\n",
    "\n",
    "\n",
    "print(rgb_to_hex(148, 0, 211))"
   ]
  },
  {
   "cell_type": "markdown",
   "metadata": {},
   "source": [
    "# To square(root) or not to square(root)\n",
    "Given an array of number. Write a method, that will get a number array as parameter and will process every number from this array.\n",
    "\n",
    "\n",
    "Return a new array with processing every number of the input-array like this:\n",
    "\n",
    "\n",
    "If the number has an rational square root, take this, otherwise square the number.\n",
    "\n",
    "    \n",
    "    Input:  [4,3,9,7,2,1]\n",
    "    Output: [2,9,3,49,4,1]\n",
    "\n",
    "    Input: [1.21,0,9]\n",
    "    Output: [1.1,0,3]"
   ]
  },
  {
   "cell_type": "markdown",
   "source": [],
   "metadata": {
    "collapsed": false
   }
  },
  {
   "cell_type": "code",
   "execution_count": 1,
   "outputs": [
    {
     "name": "stdout",
     "output_type": "stream",
     "text": [
      "[2, 9, 3, 49, 4, 1]\n",
      "[1.21, 0, 9]\n"
     ]
    }
   ],
   "source": [
    "# write your code here\n",
    "import math\n",
    "\n",
    "def root_square(nums: list) -> list:\n",
    "    return [round(pow(num, 2), 2) if math.sqrt(num) % 1 else int(math.sqrt(num)) for num in nums]\n",
    "\n",
    "print(root_square([4,3,9,7,2,1]))\n",
    "print(root_square([1.1, 0, 3]))"
   ],
   "metadata": {
    "collapsed": false
   }
  },
  {
   "cell_type": "code",
   "execution_count": null,
   "outputs": [],
   "source": [
    "    "
   ],
   "metadata": {
    "collapsed": false
   }
  }
 ],
 "metadata": {
  "interpreter": {
   "hash": "b469c69c7779680c4ee09c4775720b95d3e73aebb95b0b92945285ea0714cd4d"
  },
  "kernelspec": {
   "display_name": "Python 3.8.9 ('venv': venv)",
   "language": "python",
   "name": "python3"
  },
  "language_info": {
   "codemirror_mode": {
    "name": "ipython",
    "version": 3
   },
   "file_extension": ".py",
   "mimetype": "text/x-python",
   "name": "python",
   "nbconvert_exporter": "python",
   "pygments_lexer": "ipython3",
   "version": "3.8.9"
  },
  "orig_nbformat": 4
 },
 "nbformat": 4,
 "nbformat_minor": 2
}
