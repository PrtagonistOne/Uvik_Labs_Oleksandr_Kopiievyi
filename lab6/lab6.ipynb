{
 "cells": [
  {
   "cell_type": "markdown",
   "metadata": {},
   "source": [
    "# Class topology\n",
    "Choose any existing topology of objects that soround us and represent it via classes. Imlement class hierarchy that will use different relations between objects.\n",
    "\n",
    "Use classmethods and staticmethods.\n",
    "\n",
    "Create UML diagram to represent the topology and relations inside of it.\n",
    "\n",
    "Note: Create at least 3 classes"
   ]
  },
  {
   "cell_type": "code",
   "execution_count": 1,
   "metadata": {},
   "outputs": [],
   "source": [
    "# write your code here"
   ]
  }
 ],
 "metadata": {
  "kernelspec": {
   "display_name": "Python 3.9.6 ('venv': venv)",
   "language": "python",
   "name": "python3"
  },
  "language_info": {
   "codemirror_mode": {
    "name": "ipython",
    "version": 3
   },
   "file_extension": ".py",
   "mimetype": "text/x-python",
   "name": "python",
   "nbconvert_exporter": "python",
   "pygments_lexer": "ipython3",
   "version": "3.9.6"
  },
  "orig_nbformat": 4,
  "vscode": {
   "interpreter": {
    "hash": "f6bbc3f78a19c700aba95937ccd2357fb00e815cfd39466200ea33816d85557e"
   }
  }
 },
 "nbformat": 4,
 "nbformat_minor": 2
}
