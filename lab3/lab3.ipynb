{
 "cells": [
  {
   "cell_type": "markdown",
   "metadata": {},
   "source": [
    "# ROT13\n",
    "Given the word, the task is to obfuscate it. \n",
    "\n",
    "According to Wikipedia, ROT13 (http://en.wikipedia.org/wiki/ROT13) is frequently used to obfuscate phrases on USENET.\n",
    "\n",
    "Hint: For this task you're only supposed to substitue characters. Not spaces, punctuation, numbers etc.\n",
    "\n",
    "\n",
    "\n",
    "    Input: EBG13 rknzcyr.\n",
    "    Output: ROT13 example.\n",
    "\n",
    "    Input: This is my first ROT13 excercise!\n",
    "    Output: Guvf vf zl svefg EBG13 rkprepvfr!"
   ]
  },
  {
   "cell_type": "code",
   "execution_count": 1,
   "metadata": {},
   "outputs": [
    {
     "name": "stdout",
     "output_type": "stream",
     "text": [
      "EBG13 rknzcyr.\n"
     ]
    }
   ],
   "source": [
    "# write your code here\n",
    "rot13 = str.maketrans(\n",
    "    'ABCDEFGHIJKLMabcdefghijklmNOPQRSTUVWXYZnopqrstuvwxyz',\n",
    "    'NOPQRSTUVWXYZnopqrstuvwxyzABCDEFGHIJKLMabcdefghijklm')\n",
    "\n",
    "print('EBG13 rknzcyr.'.translate(rot13))\n",
    "\n",
    "print('Guvf vf zl svefg EBG13 rkprepvfr!'.translate(rot13))"
   ]
  },
  {
   "cell_type": "markdown",
   "metadata": {},
   "source": [
    "# Roman Numerals Decoder\n",
    "\n",
    "Given a string. Create a function that takes a Roman numeral as its argument and returns its value as a numeric decimal integer. You don't need to validate the form of the Roman numeral.\n",
    "\n",
    "\n",
    "Modern Roman numerals are written by expressing each decimal digit of the number to be encoded separately, starting with the leftmost digit and skipping any 0s. So 1990 is rendered \"MCMXC\" (1000 = M, 900 = CM, 90 = XC) and 2008 is rendered \"MMVIII\" (2000 = MM, 8 = VIII). The Roman numeral for 1666, \"MDCLXVI\", uses each letter in descending order.\n",
    "\n",
    "    Input: XXI\n",
    "    Output: 21"
   ]
  },
  {
   "cell_type": "code",
   "execution_count": null,
   "metadata": {},
   "outputs": [],
   "source": [
    "# write your code here\n",
    "roman = {'I': 1, 'V': 5, 'X': 10, 'L': 50, 'C': 100, 'D': 500, 'M': 1000}\n",
    "\n",
    "\n",
    "def roman_to_int(S: str) -> int:\n",
    "    sum = 0\n",
    "    for i in range(len(S) - 1, -1, -1):\n",
    "        num = roman[S[i]]\n",
    "        sum = sum - num if 3 * num < sum else sum + num\n",
    "    return sum\n",
    "\n",
    "\n",
    "print(roman_to_int('III'))\n"
   ]
  }
 ],
 "metadata": {
  "language_info": {
   "name": "python"
  },
  "orig_nbformat": 4
 },
 "nbformat": 4,
 "nbformat_minor": 2
}
