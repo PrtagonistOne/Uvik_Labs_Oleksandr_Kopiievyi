{
 "cells": [
  {
   "cell_type": "markdown",
   "metadata": {},
   "source": [
    "# Check if the string is Symmetrical or Palindrome\n",
    "\n",
    "Given a string. The task is to check if the string is symmetrical or palindrome. A string is said to be symmetrical if both the halves of the string are the same and a string is said to be a palindrome string if one half of the string is the reverse of the other half or if a string appears same when read forward or backward.\n",
    "\n",
    "    Input: khokho\n",
    "    Output: \n",
    "    The entered string is symmetrical\n",
    "    The entered string is not palindrome\n",
    "\n",
    "    Input: amaama\n",
    "    Output:\n",
    "    The entered string is symmetrical\n",
    "    The entered string is palindrome"
   ]
  },
  {
   "cell_type": "code",
   "execution_count": 6,
   "metadata": {},
   "outputs": [
    {
     "name": "stdout",
     "output_type": "stream",
     "text": [
      "Output:\n",
      "The entered string is symmetrical and not palindrome\n"
     ]
    }
   ],
   "source": [
    "# write your code here\n",
    "string = str(input('Input test str: '))\n",
    "print('Output:\\nThe entered string is ', end='')\n",
    "print('symmetrical and ', end='') if string[0:len(string)//2] == string[len(string)//2:] else print('not symmetrical and ', end='')\n",
    "print('palindrome') if string == string[::-1] else print('not palindrome')\n"
   ]
  },
  {
   "cell_type": "markdown",
   "metadata": {},
   "source": [
    "# Multiply numbers\n",
    "\n",
    "Given two numbers. The task is to mutiply them without using the * operator.\n",
    "\n",
    "    Input : 12, 12\n",
    "    Output : 144\n",
    "\n",
    "    Input : 19, 0\n",
    "    Output : 0\n",
    "\n",
    "    Input : 1.1, 17.2\n",
    "    Output : 18.92\n",
    "\n",
    "    Input : -2, 4\n",
    "    Output : -8"
   ]
  },
  {
   "cell_type": "code",
   "execution_count": 4,
   "metadata": {},
   "outputs": [
    {
     "name": "stdout",
     "output_type": "stream",
     "text": [
      "Output :  0.6\n"
     ]
    }
   ],
   "source": [
    "# write your code here\n",
    "def scuffed_multiplication(x, y):\n",
    "    if y < 0:\n",
    "        return -scuffed_multiplication(x, -y)\n",
    "    elif y == 0:\n",
    "        return 0\n",
    "    elif y == 1:\n",
    "        return x\n",
    "    else:\n",
    "        return x + scuffed_multiplication(x, y - 1)\n",
    "\n",
    "num1, num2 = input('Input : ').split(', ')\n",
    "\n",
    "num1 = eval(num1)\n",
    "num2 = eval(num2)\n",
    "\n",
    "if type(num1) == float and type(num2) == float:\n",
    "    decimal_point = len(str(num1).split('.')[-1]) + len(str(num2).split('.')[-1])\n",
    "    x = int(str(num1).replace('.', ''))\n",
    "    y = int(str(num2).replace('.', ''))\n",
    "\n",
    "    z = str(scuffed_multiplication(x, y))\n",
    "    zxc = ''.join(f'{val}.' if c == decimal_point else val for c, val in enumerate(z[::-1], start=1))\n",
    "\n",
    "    print(\"Output : \", float(zxc[::-1]))\n",
    "else:\n",
    "    print(\"Output : \", scuffed_multiplication(num1, num2))"
   ]
  },
  {
   "cell_type": "markdown",
   "metadata": {},
   "source": [
    "|# Check for balanced parentheses\n",
    "\n",
    "Given an expression string, write a python program to find whether a given string has balanced parentheses or not.\n",
    "\n",
    "    Input : {[]{()}}\n",
    "    Output : Balanced\n",
    "\n",
    "    Input : [{}{}(]\n",
    "    Output : Unbalanced\n",
    "\n",
    "    Input : {][{()}}\n",
    "    Output : Unbalanced"
   ]
  },
  {
   "cell_type": "code",
   "execution_count": 7,
   "metadata": {},
   "outputs": [
    {
     "name": "stdout",
     "output_type": "stream",
     "text": [
      "({)} - Unbalanced\n"
     ]
    }
   ],
   "source": [
    "# write your code here\n",
    "\n",
    "def check(my_string):\n",
    "    brackets = ['()', '{}', '[]']\n",
    "    while any(x in my_string for x in brackets):\n",
    "        for br in brackets:\n",
    "            my_string = my_string.replace(br, '')\n",
    "    return not my_string\n",
    "\n",
    "string = str(input('Input : '))\n",
    "print(string, \"-\", \"Balanced\"\n",
    "      if check(string) else \"Unbalanced\")"
   ]
  },
  {
   "cell_type": "code",
   "execution_count": null,
   "outputs": [],
   "source": [],
   "metadata": {
    "collapsed": false
   }
  }
 ],
 "metadata": {
  "kernelspec": {
   "display_name": "Python 3.8.9 ('venv': venv)",
   "language": "python",
   "name": "python3"
  },
  "language_info": {
   "codemirror_mode": {
    "name": "ipython",
    "version": 3
   },
   "file_extension": ".py",
   "mimetype": "text/x-python",
   "name": "python",
   "nbconvert_exporter": "python",
   "pygments_lexer": "ipython3",
   "version": "3.8.9"
  },
  "orig_nbformat": 4,
  "vscode": {
   "interpreter": {
    "hash": "b469c69c7779680c4ee09c4775720b95d3e73aebb95b0b92945285ea0714cd4d"
   }
  }
 },
 "nbformat": 4,
 "nbformat_minor": 2
}
