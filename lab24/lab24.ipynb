{
 "cells": [
  {
   "attachments": {},
   "cell_type": "markdown",
   "metadata": {},
   "source": [
    "# Django pt.3"
   ]
  },
  {
   "cell_type": "markdown",
   "metadata": {},
   "source": [
    "Implement the code from lecture"
   ]
  },
  {
   "cell_type": "markdown",
   "metadata": {},
   "source": [
    "## Build a Portfolio App\n",
    "Build the portfolio app from the [tutorial](https://realpython.com/get-started-with-django-1/)."
   ]
  },
  {
   "attachments": {},
   "cell_type": "markdown",
   "metadata": {},
   "source": [
    "ракет ## Blog\n",
    "Taking the db structure from lab with SQL Blog, create the django application that will implement the basic blog functionality. \n",
    "\n",
    "You need to use:\n",
    "- different django apps (at least 3). **Note:** each app is a directory created by `python manage.py startapp <name>` command\n",
    "- create models that will implement your schema\n",
    "- create django views (create at least one function based view, [class based view](https://docs.djangoproject.com/en/4.0/topics/class-based-views/intro/), [generic view](https://docs.djangoproject.com/en/4.0/topics/class-based-views/generic-display/))\n",
    "- add django forms\n",
    "- add django templates (use template hierarchy like in the Portfolio app, add `base.html` and extend it by subclasses)\n",
    "- add some tests to your django project. [pytest-django](https://pytest-django.readthedocs.io/en/latest/) may be a good choice\n",
    "\n",
    "Bonus tasks:\n",
    "- use bootstrap\n",
    "- add template [filters and tags](https://docs.djangoproject.com/en/4.0/ref/templates/builtins/)\n",
    "- [cutomize django admin](https://docs.djangoproject.com/en/4.0/ref/contrib/admin/) to depict models clearer\n",
    "- add [django logger](https://docs.djangoproject.com/en/4.0/topics/logging/)\n",
    "- add [manager](https://docs.djangoproject.com/en/4.0/topics/db/managers/) to your models\n",
    "- add [caching](https://docs.djangoproject.com/en/4.0/topics/cache/) to your project"
   ]
  },
  {
   "cell_type": "markdown",
   "metadata": {},
   "source": []
  }
 ],
 "metadata": {
  "kernelspec": {
   "display_name": "venv",
   "language": "python",
   "name": "python3"
  },
  "language_info": {
   "name": "python",
   "version": "3.9.6 (default, Oct 18 2022, 12:41:40) \n[Clang 14.0.0 (clang-1400.0.29.202)]"
  },
  "orig_nbformat": 4,
  "vscode": {
   "interpreter": {
    "hash": "f6bbc3f78a19c700aba95937ccd2357fb00e815cfd39466200ea33816d85557e"
   }
  }
 },
 "nbformat": 4,
 "nbformat_minor": 2
}
